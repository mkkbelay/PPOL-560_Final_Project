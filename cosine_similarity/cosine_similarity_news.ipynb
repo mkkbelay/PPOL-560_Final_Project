{
 "cells": [
  {
   "cell_type": "markdown",
   "metadata": {},
   "source": [
    "**COSINE SIMILARITY**"
   ]
  },
  {
   "cell_type": "code",
   "execution_count": 2,
   "metadata": {},
   "outputs": [],
   "source": [
    "##import pandas and numpy\n",
    "import pandas as pd\n",
    "import numpy as np"
   ]
  },
  {
   "cell_type": "code",
   "execution_count": 3,
   "metadata": {},
   "outputs": [],
   "source": [
    "## function to import each news story text file and make modifications to prepare the file for analysis\n",
    "def import_files(txt_file=None):\n",
    "    \"\"\"\n",
    "    This function opens a text file saved in the current working directory and converts each word\n",
    "    in the text to lower case; replaces all full-stops with an empty space; and splits the contents of \n",
    "    the text file at every space, such that each word is a list item. The output of this function is a \n",
    "    a list containing the items from converted text file.\n",
    "\n",
    "    \"\"\"\n",
    "    with open(txt_file,mode='rt',encoding='UTF-8') as file1:\n",
    "        for line in file1:\n",
    "            txt_file= line.lower()\n",
    "            txt_file= txt_file.replace('.','')\n",
    "            txt_file = txt_file.split()\n",
    "        return txt_file"
   ]
  },
  {
   "cell_type": "code",
   "execution_count": 4,
   "metadata": {},
   "outputs": [],
   "source": [
    "## run the function above for each news story\n",
    "aljazeera=import_files(\"aljazeera-khashoggi.txt\")\n",
    "bbc=import_files(\"bbc-khashoggi.txt\")\n",
    "breitbart=import_files(\"breitbart-khashoggi.txt\")\n",
    "cnn=import_files(\"cnn-khashoggi.txt\")\n",
    "fox=import_files(\"fox-khashoggi.txt\")"
   ]
  },
  {
   "cell_type": "code",
   "execution_count": 5,
   "metadata": {},
   "outputs": [],
   "source": [
    "## define function to convert list items to dictionary objects with counts for each list item\n",
    "def create_dict(news_agency=None):\n",
    "    '''\n",
    "    This function takes in a list of string items and outputs a dictionary object, turning each item in the \n",
    "    inputted list to a key and the number of times each item appears in the list to its corresponding value.\n",
    "    '''\n",
    "    news_agency_story = dict()\n",
    "    for word in news_agency:\n",
    "        if word in news_agency_story:\n",
    "            news_agency_story[word][0] += 1\n",
    "        else:\n",
    "            news_agency_story[word] = [1]\n",
    "    return news_agency_story"
   ]
  },
  {
   "cell_type": "code",
   "execution_count": 6,
   "metadata": {},
   "outputs": [],
   "source": [
    "##run function above for each list created earlier in the notebook to convert to a dictionary\n",
    "aljazeera=create_dict(aljazeera)\n",
    "bbc=create_dict(bbc)\n",
    "breitbart=create_dict(breitbart)\n",
    "cnn=create_dict(cnn)\n",
    "fox=create_dict(fox)"
   ]
  },
  {
   "cell_type": "code",
   "execution_count": 7,
   "metadata": {},
   "outputs": [],
   "source": [
    "## build a function to create a document term matrix for each news dictionary created above; combine all into one DataFrame\n",
    "def gen_DTM(texts=None):\n",
    "    '''\n",
    "    This function generates a document term matrix by taking in a series of dictionary objects as an input\n",
    "    and outputting a pandas DataFrame,where the column headers represent the keys; the cells\n",
    "    represent the corresponding dictionary value (i.e, how many times the word/key appears); and the index \n",
    "    represent which dictionary the words came from. The resulting DataFrame includes the document term matrix\n",
    "    for each dictionary object inputted in the function.Note that the resulting DataFrame will have all instances\n",
    "    where a word is in one text but not another replaced with a 0.\n",
    "    '''\n",
    "    DTM = pd.DataFrame()\n",
    "    for text in texts:\n",
    "        entry = text\n",
    "        DTM = DTM.append(pd.DataFrame(entry),ignore_index=True,sort=True) # Row bind\n",
    "    \n",
    "    DTM.fillna(0, inplace=True) \n",
    "    return DTM"
   ]
  },
  {
   "cell_type": "code",
   "execution_count": 8,
   "metadata": {},
   "outputs": [],
   "source": [
    "## run function and generate a document term matrix for each dictionary into single dataframe\n",
    "DTM = gen_DTM([aljazeera,bbc, breitbart, cnn, fox])"
   ]
  },
  {
   "cell_type": "code",
   "execution_count": 9,
   "metadata": {},
   "outputs": [],
   "source": [
    "#index the pandas dataframe to draw out a numpy array; i.e, turn into vector\n",
    "a = DTM.iloc[0].values ##aljazeera\n",
    "b = DTM.iloc[1].values ##bbc\n",
    "c = DTM.iloc[2].values ##breitbart\n",
    "d = DTM.iloc[3].values ##cnn\n",
    "e = DTM.iloc[4].values ##fox"
   ]
  },
  {
   "cell_type": "markdown",
   "metadata": {},
   "source": [
    "Calculate the cosine of angle between two vectors using this formula:\n",
    "<br>\n",
    "\n",
    "$$ \\cos{\\theta} =  \\frac{\\vec{a} \\cdot \\vec{b}}{\\left\\| a \\right\\| \\left\\| b \\right\\|}$$"
   ]
  },
  {
   "cell_type": "code",
   "execution_count": 10,
   "metadata": {},
   "outputs": [],
   "source": [
    "##determine dot product of vector a and b\n",
    "numerator=np.dot(a,b) \n",
    "##determine magnitude of vector a and b and multiply them with one another\n",
    "denominator=np.sqrt(np.dot(a,a)) * np.sqrt(np.dot(b,b)) "
   ]
  },
  {
   "cell_type": "code",
   "execution_count": 11,
   "metadata": {},
   "outputs": [
    {
     "name": "stdout",
     "output_type": "stream",
     "text": [
      "{'Aljazeera vs. BBC': 0.8622524641557016}\n"
     ]
    }
   ],
   "source": [
    "##derive the cosine of the angle between vector a and b; i.e.,similarity between aljazeera and bbc\n",
    "cos_ab=numerator/denominator\n",
    "print({'Aljazeera vs. BBC': cos_ab})"
   ]
  },
  {
   "cell_type": "code",
   "execution_count": 12,
   "metadata": {},
   "outputs": [],
   "source": [
    "##determine dot product of vector a and c\n",
    "numerator2=np.dot(a,c) \n",
    "##determine magnitude of vector a and c and multiply them with one another\n",
    "denominator2=np.sqrt(np.dot(a,a)) * np.sqrt(np.dot(c,c)) "
   ]
  },
  {
   "cell_type": "code",
   "execution_count": 13,
   "metadata": {},
   "outputs": [
    {
     "name": "stdout",
     "output_type": "stream",
     "text": [
      "{'Aljazeera vs. Breitbart': 0.8248504911052962}\n"
     ]
    }
   ],
   "source": [
    "##derive the cosine of the angle between vector a and c; i.e.,similarity between aljazeera and breitbart\n",
    "cos_ac=numerator2/denominator2\n",
    "print({'Aljazeera vs. Breitbart': cos_ac})"
   ]
  },
  {
   "cell_type": "code",
   "execution_count": 14,
   "metadata": {},
   "outputs": [],
   "source": [
    "##determine dot product of vector a and d\n",
    "numerator3=np.dot(a,d) \n",
    "##determine magnitude of vector a and d and multiply them with one another\n",
    "denominator3=np.sqrt(np.dot(a,a)) * np.sqrt(np.dot(d,d)) "
   ]
  },
  {
   "cell_type": "code",
   "execution_count": 15,
   "metadata": {},
   "outputs": [
    {
     "name": "stdout",
     "output_type": "stream",
     "text": [
      "{'Aljazeera vs. CNN': 0.7305176287247819}\n"
     ]
    }
   ],
   "source": [
    "##derive the cosine of the angle between vector a and d; i.e.,similarity between aljazeera and cnn\n",
    "cos_ad=numerator3/denominator3\n",
    "print({'Aljazeera vs. CNN': cos_ad})"
   ]
  },
  {
   "cell_type": "code",
   "execution_count": 16,
   "metadata": {},
   "outputs": [],
   "source": [
    "##determine dot product of vector a and e\n",
    "numerator4=np.dot(a,e) \n",
    "##determine magnitude of vector a and e and multiply them with one another\n",
    "denominator4=np.sqrt(np.dot(a,a)) * np.sqrt(np.dot(e,e)) "
   ]
  },
  {
   "cell_type": "code",
   "execution_count": 17,
   "metadata": {},
   "outputs": [
    {
     "name": "stdout",
     "output_type": "stream",
     "text": [
      "{'Aljazeera vs. FOX': 0.8321887510410148}\n"
     ]
    }
   ],
   "source": [
    "##derive the cosine of the angle between vector a and e; i.e.,similarity between aljazeera and fox\n",
    "cos_ae=numerator4/denominator4\n",
    "print({'Aljazeera vs. FOX': cos_ae})"
   ]
  },
  {
   "cell_type": "code",
   "execution_count": 18,
   "metadata": {},
   "outputs": [],
   "source": [
    "##determine dot product of vector b and c\n",
    "numerator5=np.dot(b,c) \n",
    "##determine magnitude of vector b and c and multiply them with one another\n",
    "denominator5=np.sqrt(np.dot(b,b)) * np.sqrt(np.dot(c,c)) "
   ]
  },
  {
   "cell_type": "code",
   "execution_count": 19,
   "metadata": {},
   "outputs": [
    {
     "name": "stdout",
     "output_type": "stream",
     "text": [
      "{'BBC vs. Breitbart': 0.8912414719811531}\n"
     ]
    }
   ],
   "source": [
    "##derive the cosine of the angle between vector b and c; i.e.,similarity between bbc and breitbart\n",
    "cos_bc=numerator5/denominator5\n",
    "print({'BBC vs. Breitbart': cos_bc})"
   ]
  },
  {
   "cell_type": "code",
   "execution_count": 20,
   "metadata": {},
   "outputs": [],
   "source": [
    "##determine dot product of vector b and d\n",
    "numerator6=np.dot(b,d) \n",
    "##determine magnitude of vector b and d and multiply them with one another\n",
    "denominator6=np.sqrt(np.dot(b,b)) * np.sqrt(np.dot(d,d)) "
   ]
  },
  {
   "cell_type": "code",
   "execution_count": 21,
   "metadata": {},
   "outputs": [
    {
     "name": "stdout",
     "output_type": "stream",
     "text": [
      "{'BBC vs. CNN': 0.7454557179243538}\n"
     ]
    }
   ],
   "source": [
    "##derive the cosine of the angle between vector b and d; i.e.,similarity between bbc and cnn\n",
    "cos_bd=numerator6/denominator6\n",
    "print({'BBC vs. CNN': cos_bd})"
   ]
  },
  {
   "cell_type": "code",
   "execution_count": 22,
   "metadata": {},
   "outputs": [],
   "source": [
    "##determine dot product of vector b and e\n",
    "numerator7=np.dot(b,e) \n",
    "##determine magnitude of vector b and e and multiply them with one another\n",
    "denominator7=np.sqrt(np.dot(b,b)) * np.sqrt(np.dot(e,e))"
   ]
  },
  {
   "cell_type": "code",
   "execution_count": 23,
   "metadata": {},
   "outputs": [
    {
     "name": "stdout",
     "output_type": "stream",
     "text": [
      "{'BBC vs. FOX': 0.8868691475115703}\n"
     ]
    }
   ],
   "source": [
    "##derive the cosine of the angle between vector b and e; i.e.,similarity between bbc and fox\n",
    "cos_be=numerator7/denominator7\n",
    "print({'BBC vs. FOX': cos_be})"
   ]
  },
  {
   "cell_type": "code",
   "execution_count": 24,
   "metadata": {},
   "outputs": [],
   "source": [
    "##determine dot product of vector c and d\n",
    "numerator8=np.dot(c,d) \n",
    "##determine magnitude of vector c and d and multiply them with one another\n",
    "denominator8=np.sqrt(np.dot(c,c)) * np.sqrt(np.dot(d,d))"
   ]
  },
  {
   "cell_type": "code",
   "execution_count": 25,
   "metadata": {},
   "outputs": [
    {
     "name": "stdout",
     "output_type": "stream",
     "text": [
      "{'Breitbart vs. CNN': 0.6835747867474448}\n"
     ]
    }
   ],
   "source": [
    "##derive the cosine of the angle between vector c and d; i.e.,similarity between breitbart and cnn\n",
    "cos_cd=numerator8/denominator8\n",
    "print({'Breitbart vs. CNN': cos_cd})"
   ]
  },
  {
   "cell_type": "code",
   "execution_count": 26,
   "metadata": {},
   "outputs": [],
   "source": [
    "##determine dot product of vector c and e\n",
    "numerator9=np.dot(c,e) \n",
    "##determine magnitude of vector c and e and multiply them with one another\n",
    "denominator9=np.sqrt(np.dot(c,c)) * np.sqrt(np.dot(e,e))"
   ]
  },
  {
   "cell_type": "code",
   "execution_count": 27,
   "metadata": {
    "scrolled": true
   },
   "outputs": [
    {
     "name": "stdout",
     "output_type": "stream",
     "text": [
      "{'Breitbart vs. FOX': 0.8689899206657393}\n"
     ]
    }
   ],
   "source": [
    "##derive the cosine of the angle between vector c and e; i.e.,similarity between breitbart and fox\n",
    "cos_ce=numerator9/denominator9\n",
    "print({'Breitbart vs. FOX': cos_ce})"
   ]
  },
  {
   "cell_type": "code",
   "execution_count": 28,
   "metadata": {},
   "outputs": [],
   "source": [
    "##determine dot product of vector d and e\n",
    "numerator10=np.dot(d,e) \n",
    "##determine magnitude of vector d and e and multiply them with one another\n",
    "denominator10=np.sqrt(np.dot(d,d)) * np.sqrt(np.dot(e,e))"
   ]
  },
  {
   "cell_type": "code",
   "execution_count": 29,
   "metadata": {},
   "outputs": [
    {
     "name": "stdout",
     "output_type": "stream",
     "text": [
      "{'CNN vs. FOX': 0.7438663466782564}\n"
     ]
    }
   ],
   "source": [
    "##derive the cosine of the angle between vector d and e; i.e.,similarity between cnn & fox\n",
    "cos_de=numerator10/denominator10\n",
    "print({'CNN vs. FOX': cos_de})"
   ]
  },
  {
   "cell_type": "markdown",
   "metadata": {},
   "source": [
    "Based on the analysis above, before removing any common stop words, the reporting of Turkish President Erdogan remarks about the murder of journalist Jamal Khashoggi is most similar between bbc and breitbart because the cosine of the angle between these vectors (0.8912414719811531) is the closest to 1. Conversely, breitbart and cnn are the most disimilar in their reporting. The cosine of the angle between these two vectors (0.6835747867474448) is the furthest away from 1.\n",
    "\n",
    "Next, the steps above will be repeated but a list of common stop words will be removed from each news story text file, along with some additional special characters commonly used in the English language."
   ]
  },
  {
   "cell_type": "code",
   "execution_count": 30,
   "metadata": {},
   "outputs": [],
   "source": [
    "##import stop_words csv file; convert to list\n",
    "stop_words=pd.read_csv(\"stop_words.csv\")\n",
    "stop_words=stop_words['word'].to_list()"
   ]
  },
  {
   "cell_type": "code",
   "execution_count": 31,
   "metadata": {},
   "outputs": [],
   "source": [
    "## function to import each news story text file and make modifications to prepare the file for analysis \n",
    "def import_files2(txt_file=None):\n",
    "    \"\"\"\n",
    "    This function opens a text file saved in the current working directory and brings it into the current\n",
    "    python environment. It then convertes each word in the text to lower case; replaces all full-stops \n",
    "    with an empty space; and splits the contents of the text file at every space, such that each word \n",
    "    is a separate list item. This function also removes common punctuation/special characters (i.e, ?, \"\",$ etc)\n",
    "    used in the English language.\n",
    "    The output of this function is a list containing the items from converted text file.\n",
    "\n",
    "    \"\"\"\n",
    "    with open(txt_file,mode='rt',encoding='UTF-8') as file1:\n",
    "        for line in file1:\n",
    "            txt_file= line.lower()\n",
    "            txt_file= txt_file.replace('.','')\n",
    "            txt_file= txt_file.replace('-','')\n",
    "            txt_file= txt_file.replace('?','')\n",
    "            txt_file= txt_file.replace('(','')\n",
    "            txt_file= txt_file.replace(')','')\n",
    "            txt_file= txt_file.replace(',','')\n",
    "            txt_file= txt_file.replace('\"','')\n",
    "            txt_file= txt_file.replace('$','')\n",
    "            txt_file= txt_file.replace('“','')\n",
    "            txt_file= txt_file.replace('!','')\n",
    "            txt_file= txt_file.replace(\"'\",'')\n",
    "            txt_file = txt_file.split()\n",
    "            txt_file = [word for word in txt_file if word not in stop_words]\n",
    "        return txt_file"
   ]
  },
  {
   "cell_type": "code",
   "execution_count": 32,
   "metadata": {},
   "outputs": [],
   "source": [
    "aljazeera2=import_files2(\"aljazeera-khashoggi.txt\")\n",
    "bbc2=import_files2(\"bbc-khashoggi.txt\")\n",
    "breitbart2=import_files2(\"breitbart-khashoggi.txt\")\n",
    "cnn2=import_files2(\"cnn-khashoggi.txt\")\n",
    "fox2=import_files2(\"fox-khashoggi.txt\")"
   ]
  },
  {
   "cell_type": "code",
   "execution_count": 33,
   "metadata": {},
   "outputs": [],
   "source": [
    "## define function to convert list items to dictionary objects with counts for each list item\n",
    "def create_dict(news_agency=None):\n",
    "    '''\n",
    "    This function takes in a list of string items and outputs a dictionary object, turning each item in the \n",
    "    inputted list to a key and the number of times each item appears in the list to its corresponding value.\n",
    "    '''\n",
    "    news_agency_story = dict()\n",
    "    for word in news_agency:\n",
    "        if word in news_agency_story:\n",
    "            news_agency_story[word][0] += 1\n",
    "        else:\n",
    "            news_agency_story[word] = [1]\n",
    "    return news_agency_story"
   ]
  },
  {
   "cell_type": "code",
   "execution_count": 34,
   "metadata": {},
   "outputs": [],
   "source": [
    "##run function above for each list created earlier in the notebook to convert to a dictionary\n",
    "aljazeera2=create_dict(aljazeera2)\n",
    "bbc2=create_dict(bbc2)\n",
    "breitbart2=create_dict(breitbart2)\n",
    "cnn2=create_dict(cnn2)\n",
    "fox2=create_dict(fox2)"
   ]
  },
  {
   "cell_type": "code",
   "execution_count": 35,
   "metadata": {},
   "outputs": [],
   "source": [
    "## build a function to create a document term matrix for each news dictionary created above; combine all into one DataFrame\n",
    "def gen_DTM(texts=None):\n",
    "    '''\n",
    "    This function generates a document term matrix by taking in a series of dictionary objects as an input\n",
    "    and outputting a pandas DataFrame,where the column headers represent the keys; the cells\n",
    "    represent the corresponding dictionary value (i.e, how many times the word/key appears); and the index \n",
    "    represent which dictionary the words came from. The resulting DataFrame includes the document term matrix\n",
    "    for each dictionary object inputted in the function.Note that the resulting DataFrame will have all instances\n",
    "    where a word is in one text but not another replaced with a 0.\n",
    "    '''\n",
    "    DTM = pd.DataFrame()\n",
    "    for text in texts:\n",
    "        entry = text\n",
    "        DTM = DTM.append(pd.DataFrame(entry),ignore_index=True,sort=True) # Row bind\n",
    "    \n",
    "    DTM.fillna(0, inplace=True) \n",
    "    return DTM"
   ]
  },
  {
   "cell_type": "code",
   "execution_count": 36,
   "metadata": {},
   "outputs": [],
   "source": [
    "## run function above; generate document term matrix\n",
    "DTM2 = gen_DTM([aljazeera2,bbc2, breitbart2, cnn2, fox2]) "
   ]
  },
  {
   "cell_type": "code",
   "execution_count": 37,
   "metadata": {},
   "outputs": [],
   "source": [
    "#index the pandas dataframe to draw out a numpy array ; i.e., convert to vectors\n",
    "a = DTM2.iloc[0].values ##aljazeera\n",
    "b = DTM2.iloc[1].values ##bbc\n",
    "c = DTM2.iloc[2].values ##breitbart\n",
    "d = DTM2.iloc[3].values ##cnn\n",
    "e = DTM2.iloc[4].values ##fox"
   ]
  },
  {
   "cell_type": "code",
   "execution_count": 38,
   "metadata": {},
   "outputs": [],
   "source": [
    "##determine dot product of vector a and b\n",
    "numerator=np.dot(a,b) \n",
    "##determine magnitude of vector a and b and multiply them with one another\n",
    "denominator=np.sqrt(np.dot(a,a)) * np.sqrt(np.dot(b,b)) \n"
   ]
  },
  {
   "cell_type": "code",
   "execution_count": 39,
   "metadata": {},
   "outputs": [
    {
     "name": "stdout",
     "output_type": "stream",
     "text": [
      "{'Aljazeera vs. BBC': 0.6756884307843023}\n"
     ]
    }
   ],
   "source": [
    "##derive the cosine of the angle between vector a and b; i.e.,similarity between aljazeera and bbc\n",
    "cos_ab=numerator/denominator\n",
    "print({'Aljazeera vs. BBC': cos_ab})\n"
   ]
  },
  {
   "cell_type": "code",
   "execution_count": 40,
   "metadata": {},
   "outputs": [],
   "source": [
    "##determine dot product of vector a and c\n",
    "numerator2=np.dot(a,c) \n",
    "##determine magnitude of vector a and c and multiply them with one another\n",
    "denominator2=np.sqrt(np.dot(a,a)) * np.sqrt(np.dot(c,c)) "
   ]
  },
  {
   "cell_type": "code",
   "execution_count": 41,
   "metadata": {},
   "outputs": [
    {
     "name": "stdout",
     "output_type": "stream",
     "text": [
      "{'Aljazeera vs. Breitbart': 0.5653129979471417}\n"
     ]
    }
   ],
   "source": [
    "##derive the cosine of the angle between vector a and c; i.e.,similarity between aljazeera and breitbart\n",
    "cos_ac=numerator2/denominator2\n",
    "print({'Aljazeera vs. Breitbart': cos_ac})"
   ]
  },
  {
   "cell_type": "code",
   "execution_count": 42,
   "metadata": {},
   "outputs": [],
   "source": [
    "##determine dot product of vector a and d\n",
    "numerator3=np.dot(a,d) \n",
    "##determine magnitude of vector a and d and multiply them with one another\n",
    "denominator3=np.sqrt(np.dot(a,a)) * np.sqrt(np.dot(d,d)) "
   ]
  },
  {
   "cell_type": "code",
   "execution_count": 43,
   "metadata": {},
   "outputs": [
    {
     "name": "stdout",
     "output_type": "stream",
     "text": [
      "{'Aljazeera vs. CNN': 0.5328558641198378}\n"
     ]
    }
   ],
   "source": [
    "##derive the cosine of the angle between vector a and d; i.e.,similarity between aljazeera and cnn\n",
    "cos_ad=numerator3/denominator3\n",
    "print({'Aljazeera vs. CNN': cos_ad})"
   ]
  },
  {
   "cell_type": "code",
   "execution_count": 44,
   "metadata": {},
   "outputs": [],
   "source": [
    "##determine dot product of vector a and e\n",
    "numerator4=np.dot(a,e) \n",
    "##determine magnitude of vector a and e and multiply them with one another\n",
    "denominator4=np.sqrt(np.dot(a,a)) * np.sqrt(np.dot(e,e)) "
   ]
  },
  {
   "cell_type": "code",
   "execution_count": 45,
   "metadata": {},
   "outputs": [
    {
     "name": "stdout",
     "output_type": "stream",
     "text": [
      "{'Aljazeera vs. FOX': 0.6706485731741532}\n"
     ]
    }
   ],
   "source": [
    "##derive the cosine of the angle between vector a and e; i.e.,similarity between aljazeera and fox\n",
    "cos_ae=numerator4/denominator4\n",
    "print({'Aljazeera vs. FOX': cos_ae})"
   ]
  },
  {
   "cell_type": "code",
   "execution_count": 46,
   "metadata": {},
   "outputs": [],
   "source": [
    "##determine dot product of vector b and c\n",
    "numerator5=np.dot(b,c) \n",
    "##determine magnitude of vector b and c and multiply them with one another\n",
    "denominator5=np.sqrt(np.dot(b,b)) * np.sqrt(np.dot(c,c)) "
   ]
  },
  {
   "cell_type": "code",
   "execution_count": 47,
   "metadata": {},
   "outputs": [
    {
     "name": "stdout",
     "output_type": "stream",
     "text": [
      "{'BBC vs. Breitbart': 0.5740920920891295}\n"
     ]
    }
   ],
   "source": [
    "##derive the cosine of the angle between vector b and c; i.e.,similarity between bbc and breitbart\n",
    "cos_bc=numerator5/denominator5\n",
    "print({'BBC vs. Breitbart': cos_bc})"
   ]
  },
  {
   "cell_type": "code",
   "execution_count": 48,
   "metadata": {},
   "outputs": [],
   "source": [
    "##determine dot product of vector b and d\n",
    "numerator6=np.dot(b,d) \n",
    "##determine magnitude of vector b and d and multiply them with one another\n",
    "denominator6=np.sqrt(np.dot(b,b)) * np.sqrt(np.dot(d,d)) "
   ]
  },
  {
   "cell_type": "code",
   "execution_count": 49,
   "metadata": {},
   "outputs": [
    {
     "name": "stdout",
     "output_type": "stream",
     "text": [
      "{'BBC vs. CNN': 0.5039192189493414}\n"
     ]
    }
   ],
   "source": [
    "##derive the cosine of the angle between vector b and d; i.e.,similarity between bbc and cnn\n",
    "cos_bd=numerator6/denominator6\n",
    "print({'BBC vs. CNN': cos_bd})"
   ]
  },
  {
   "cell_type": "code",
   "execution_count": 50,
   "metadata": {},
   "outputs": [],
   "source": [
    "##determine dot product of vector b and e\n",
    "numerator7=np.dot(b,e) \n",
    "##determine magnitude of vector b and e and multiply them with one another\n",
    "denominator7=np.sqrt(np.dot(b,b)) * np.sqrt(np.dot(e,e))"
   ]
  },
  {
   "cell_type": "code",
   "execution_count": 51,
   "metadata": {},
   "outputs": [
    {
     "name": "stdout",
     "output_type": "stream",
     "text": [
      "{'BBC vs. FOX': 0.6246247352665979}\n"
     ]
    }
   ],
   "source": [
    "##derive the cosine of the angle between vector b and e; i.e.,similarity between bbc and fox\n",
    "cos_be=numerator7/denominator7\n",
    "print({'BBC vs. FOX': cos_be})"
   ]
  },
  {
   "cell_type": "code",
   "execution_count": 52,
   "metadata": {},
   "outputs": [],
   "source": [
    "##determine dot product of vector c and d\n",
    "numerator8=np.dot(c,d) \n",
    "##determine magnitude of vector c and d and multiply them with one another\n",
    "denominator8=np.sqrt(np.dot(c,c)) * np.sqrt(np.dot(d,d))"
   ]
  },
  {
   "cell_type": "code",
   "execution_count": 53,
   "metadata": {},
   "outputs": [
    {
     "name": "stdout",
     "output_type": "stream",
     "text": [
      "{'Breitbart vs. CNN': 0.3579275305758634}\n"
     ]
    }
   ],
   "source": [
    "##derive the cosine of the angle between vector c and d; i.e.,similarity between breitbart and cnn\n",
    "cos_cd=numerator8/denominator8\n",
    "print({'Breitbart vs. CNN': cos_cd})"
   ]
  },
  {
   "cell_type": "code",
   "execution_count": 54,
   "metadata": {},
   "outputs": [],
   "source": [
    "##determine dot product of vector c and e\n",
    "numerator9=np.dot(c,e) \n",
    "##determine magnitude of vector c and e and multiply them with one another\n",
    "denominator9=np.sqrt(np.dot(c,c)) * np.sqrt(np.dot(e,e))"
   ]
  },
  {
   "cell_type": "code",
   "execution_count": 55,
   "metadata": {
    "scrolled": true
   },
   "outputs": [
    {
     "name": "stdout",
     "output_type": "stream",
     "text": [
      "{'Breitbart vs. FOX': 0.533550867184022}\n"
     ]
    }
   ],
   "source": [
    "##derive the cosine of the angle between vector c and e; i.e.,similarity between breitbart and fox\n",
    "cos_ce=numerator9/denominator9\n",
    "print({'Breitbart vs. FOX': cos_ce})"
   ]
  },
  {
   "cell_type": "code",
   "execution_count": 56,
   "metadata": {},
   "outputs": [],
   "source": [
    "##determine dot product of vector d and e\n",
    "numerator10=np.dot(d,e) \n",
    "##determine magnitude of vector d and e and multiply them with one another\n",
    "denominator10=np.sqrt(np.dot(d,d)) * np.sqrt(np.dot(e,e))"
   ]
  },
  {
   "cell_type": "code",
   "execution_count": 57,
   "metadata": {},
   "outputs": [
    {
     "name": "stdout",
     "output_type": "stream",
     "text": [
      "{'CNN vs. FOX': 0.5219135267313623}\n"
     ]
    }
   ],
   "source": [
    "##derive the cosine of the angle between vector d and e; i.e.,similarity between cnn & fox\n",
    "cos_de=numerator10/denominator10\n",
    "print({'CNN vs. FOX': cos_de})"
   ]
  },
  {
   "cell_type": "markdown",
   "metadata": {},
   "source": [
    "Based on the analysis above, after removing all common stop words and common punctuation marks from each news story, the picture of similiarity changes: the reporting of Turkish President Erdogan remarks about the murder of journalist Jamal Khashoggi is most similar between aljazeera and bbc because the cosine of the angle between these vectors (0.6756884307843023) is the closest to 1. This is  different from the previous result which found the most similarity between bbc and breitbart. Conversely, breitbart and cnn are the most disimilar in their reporting. The cosine of the angle between these two vectors(0.3579275305758634) is the furthest away from 1. While breitbart and cnn are the most dissimilar; their dissimilarity has increased as the cosine of the angle between them is now even more closer to 0. \n",
    "\n",
    "Next, the word count for aljazeera and bbc will be compared and the most similar word will be removed; the cosine similarity will be re-assessed."
   ]
  },
  {
   "cell_type": "code",
   "execution_count": 58,
   "metadata": {},
   "outputs": [
    {
     "data": {
      "text/plain": [
       "{'saudi': [14],\n",
       " 'erdogan': [12],\n",
       " 'turkish': [7],\n",
       " 'murder': [6],\n",
       " 'consulate': [6],\n",
       " 'istanbul': [5],\n",
       " 'officials': [5],\n",
       " 'killing': [5],\n",
       " 'ankara': [5],\n",
       " 'turkey': [4],\n",
       " 'president': [4],\n",
       " 'khashoggi': [4],\n",
       " 'speech': [4],\n",
       " 'arabia': [4],\n",
       " 'salman': [4],\n",
       " 'adding': [4],\n",
       " 'body': [4],\n",
       " 'dalay': [4],\n",
       " 'khashoggis': [3],\n",
       " 'bin': [3],\n",
       " 'local': [3],\n",
       " 'planned': [2],\n",
       " 'days': [2],\n",
       " 'party': [2],\n",
       " 'savage': [2],\n",
       " 'global': [2],\n",
       " 'arabian': [2],\n",
       " 'sort': [2],\n",
       " 'added': [2],\n",
       " 'crown': [2],\n",
       " 'prince': [2],\n",
       " 'october': [2],\n",
       " '2': [2],\n",
       " 'unnamed': [2],\n",
       " 'information': [2],\n",
       " 'inside': [2],\n",
       " '18': [2],\n",
       " 'investigators': [2],\n",
       " 'investigation': [2],\n",
       " 'questions': [2],\n",
       " 'erdogans': [2],\n",
       " 'confirmed': [2],\n",
       " 'told': [2],\n",
       " 'al': [2],\n",
       " 'jazeera': [2],\n",
       " 'happened': [2],\n",
       " 'person': [2],\n",
       " 'taking': [2],\n",
       " 'steps': [2],\n",
       " 'mbs': [2],\n",
       " 'saudis': [2],\n",
       " 'recep': [1],\n",
       " 'tayyip': [1],\n",
       " 'journalist': [1],\n",
       " 'jamal': [1],\n",
       " 'kingdoms': [1],\n",
       " 'advance': [1],\n",
       " 'addressing': [1],\n",
       " 'legislators': [1],\n",
       " 'justice': [1],\n",
       " 'development': [1],\n",
       " 'ak': [1],\n",
       " 'tuesday': [1],\n",
       " 'detailed': [1],\n",
       " 'disappearance': [1],\n",
       " 'stopped': [1],\n",
       " 'short': [1],\n",
       " 'accusing': [1],\n",
       " 'royals': [1],\n",
       " 'caused': [1],\n",
       " 'outrage': [1],\n",
       " 'september': [1],\n",
       " '28': [1],\n",
       " 'arrived': [1],\n",
       " 'wedding': [1],\n",
       " 'paperwork': [1],\n",
       " 'parliament': [1],\n",
       " 'capital': [1],\n",
       " 'time': [1],\n",
       " '[saudi': [1],\n",
       " 'officials]': [1],\n",
       " 'started': [1],\n",
       " 'plan': [1],\n",
       " 'roadmap': [1],\n",
       " 'left': [1],\n",
       " 'travelled': [1],\n",
       " 'indicating': [1],\n",
       " '59': [1],\n",
       " 'washington': [1],\n",
       " 'post': [1],\n",
       " 'columnist': [1],\n",
       " 'critic': [1],\n",
       " 'powerful': [1],\n",
       " 'mohammed': [1],\n",
       " 'disappeared': [1],\n",
       " 'entering': [1],\n",
       " 'tuesdays': [1],\n",
       " 'remained': [1],\n",
       " 'silent': [1],\n",
       " 'leaked': [1],\n",
       " 'including': [1],\n",
       " '15member': [1],\n",
       " 'assassination': [1],\n",
       " 'team': [1],\n",
       " 'flew': [1],\n",
       " 'chartered': [1],\n",
       " 'planes': [1],\n",
       " 'wake': [1],\n",
       " 'intense': [1],\n",
       " 'pressure': [1],\n",
       " 'admitted': [1],\n",
       " 'week': [1],\n",
       " 'killed': [1],\n",
       " 'result': [1],\n",
       " 'fistfight': [1],\n",
       " 'interrogation': [1],\n",
       " 'authorities': [1],\n",
       " 'arrested': [1],\n",
       " 'people': [1],\n",
       " 'connection': [1],\n",
       " 'fired': [1],\n",
       " 'top': [1],\n",
       " 'security': [1],\n",
       " 'considered': [1],\n",
       " 'close': [1],\n",
       " 'called': [1],\n",
       " 'political': [1],\n",
       " 'international': [1],\n",
       " 'included': [1],\n",
       " 'probe': [1],\n",
       " 'leader': [1],\n",
       " 'call': [1],\n",
       " 'continue': [1],\n",
       " 'answered': [1],\n",
       " '[the': [1],\n",
       " 'team]': [1],\n",
       " 'instruction': [1],\n",
       " 'galip': [1],\n",
       " 'visiting': [1],\n",
       " 'scholar': [1],\n",
       " 'university': [1],\n",
       " 'oxford': [1],\n",
       " 'stressed': [1],\n",
       " 'significance': [1],\n",
       " 'heard': [1],\n",
       " 'channels': [1],\n",
       " 'attributed': [1],\n",
       " 'demanded': [1],\n",
       " 'answers': [1],\n",
       " 'mentioning': [1],\n",
       " 'reports': [1],\n",
       " 'cooperator': [1],\n",
       " 'allegedly': [1],\n",
       " 'disposed': [1],\n",
       " 'claims': [1],\n",
       " 'allowed': [1],\n",
       " 'answering': [1],\n",
       " 'carrying': [1],\n",
       " 'arrests': [1],\n",
       " 'nonresident': [1],\n",
       " 'fellow': [1],\n",
       " 'brookings': [1],\n",
       " 'institution': [1],\n",
       " 'doha': [1],\n",
       " 'underlined': [1],\n",
       " 'distinction': [1],\n",
       " 'king': [1],\n",
       " 'son': [1],\n",
       " 'provided': [1],\n",
       " 'naming': [1],\n",
       " 'specifically': [1],\n",
       " 'prevent': [1],\n",
       " 'fullblown': [1],\n",
       " 'crisis': [1],\n",
       " 'riyadh': [1],\n",
       " 'sunday': [1],\n",
       " 'speaking': [1],\n",
       " 'exclusive': [1],\n",
       " 'interview': [1],\n",
       " 'fox': [1],\n",
       " 'news': [1],\n",
       " 'arabias': [1],\n",
       " 'foreign': [1],\n",
       " 'minister': [1],\n",
       " 'adel': [1],\n",
       " 'aljubeir': [1],\n",
       " 'terrible': [1],\n",
       " 'tragedy': [1],\n",
       " 'taha': [1],\n",
       " 'ozhan': [1],\n",
       " 'research': [1],\n",
       " 'director': [1],\n",
       " 'institute': [1],\n",
       " 'cooperation': [1]}"
      ]
     },
     "execution_count": 58,
     "metadata": {},
     "output_type": "execute_result"
    }
   ],
   "source": [
    "##re-arrange dictionary in descending order\n",
    "aljazeera2=dict(sorted(aljazeera2.items(), key=lambda item: item[1],reverse=True))\n",
    "aljazeera2"
   ]
  },
  {
   "cell_type": "code",
   "execution_count": 59,
   "metadata": {},
   "outputs": [
    {
     "data": {
      "text/plain": [
       "{'saudi': [22],\n",
       " 'khashoggi': [12],\n",
       " 'erdogan': [9],\n",
       " 'media': [9],\n",
       " 'president': [8],\n",
       " 'arabia': [8],\n",
       " 'killing': [7],\n",
       " 'crown': [7],\n",
       " 'murder': [6],\n",
       " 'consulate': [6],\n",
       " 'prince': [6],\n",
       " 'jamal': [5],\n",
       " 'turkish': [5],\n",
       " 'bin': [5],\n",
       " 'caption': [5],\n",
       " 'told': [4],\n",
       " 'istanbul': [4],\n",
       " 'khashoggis': [4],\n",
       " 'body': [4],\n",
       " 'conference': [4],\n",
       " 'salman': [4],\n",
       " 'tuesday': [4],\n",
       " 'left': [4],\n",
       " 'saudis': [4],\n",
       " 'king': [4],\n",
       " 'speech': [4],\n",
       " 'image': [4],\n",
       " 'news': [4],\n",
       " 'killed': [3],\n",
       " 'demanded': [3],\n",
       " 'operation': [3],\n",
       " 'investment': [3],\n",
       " 'mohammed': [3],\n",
       " 'playback': [3],\n",
       " 'unsupported': [3],\n",
       " 'device': [3],\n",
       " 'family': [3],\n",
       " 'riyadh': [3],\n",
       " 'foreign': [3],\n",
       " 'agency': [3],\n",
       " 'recep': [2],\n",
       " 'tayyip': [2],\n",
       " 'days': [2],\n",
       " 'mps': [2],\n",
       " 'ruling': [2],\n",
       " 'party': [2],\n",
       " 'turkey': [2],\n",
       " 'called': [2],\n",
       " 'kingdom': [2],\n",
       " 'conflicting': [2],\n",
       " 'accounts': [2],\n",
       " 'happened': [2],\n",
       " 'alive': [2],\n",
       " 'rogue': [2],\n",
       " 'erdogans': [2],\n",
       " 'leaders': [2],\n",
       " 'appeared': [2],\n",
       " 'day': [2],\n",
       " 'removed': [2],\n",
       " '18': [2],\n",
       " 'set': [2],\n",
       " 'mention': [2],\n",
       " 'correspondent': [2],\n",
       " 'audio': [2],\n",
       " 'inside': [2],\n",
       " 'short': [2],\n",
       " 'meeting': [2],\n",
       " 'copyright': [2],\n",
       " 'son': [2],\n",
       " 'salah': [2],\n",
       " 'building': [2],\n",
       " 'sunday': [2],\n",
       " 'minister': [2],\n",
       " 'leadership': [2],\n",
       " 'individuals': [2],\n",
       " 'mistake': [2],\n",
       " 'reuters': [2],\n",
       " 'sacked': [2],\n",
       " 'aides': [2],\n",
       " 'intelligence': [2],\n",
       " 'sources': [2],\n",
       " 'skype': [2],\n",
       " 'sebastian': [2],\n",
       " 'usher': [2],\n",
       " 'future': [2],\n",
       " 'questions': [1],\n",
       " 'answered': [1],\n",
       " 'journalist': [1],\n",
       " 'planned': [1],\n",
       " 'advance': [1],\n",
       " 'strong': [1],\n",
       " 'evidence': [1],\n",
       " 'premeditated': [1],\n",
       " 'savage': [1],\n",
       " '2': [1],\n",
       " 'october': [1],\n",
       " 'suspects': [1],\n",
       " 'provide': [1],\n",
       " 'answers': [1],\n",
       " 'provided': [1],\n",
       " 'resident': [1],\n",
       " 'washington': [1],\n",
       " 'post': [1],\n",
       " 'contributor': [1],\n",
       " 'weeks': [1],\n",
       " 'maintaining': [1],\n",
       " 'authorities': [1],\n",
       " '59yearold': [1],\n",
       " 'address': [1],\n",
       " 'coincided': [1],\n",
       " 'start': [1],\n",
       " 'overshadowed': [1],\n",
       " 'dozens': [1],\n",
       " 'government': [1],\n",
       " 'business': [1],\n",
       " 'pulled': [1],\n",
       " 'event': [1],\n",
       " 'world': [1],\n",
       " 'condemned': [1],\n",
       " 'prominent': [1],\n",
       " 'critic': [1],\n",
       " 'investigation': [1],\n",
       " 'donald': [1],\n",
       " 'trump': [1],\n",
       " 'satisfied': [1],\n",
       " 'explanation': [1],\n",
       " 'highlighted': [1],\n",
       " 'kingdoms': [1],\n",
       " 'importance': [1],\n",
       " 'ally': [1],\n",
       " 'cia': [1],\n",
       " 'director': [1],\n",
       " 'gina': [1],\n",
       " 'haspel': [1],\n",
       " 'review': [1],\n",
       " 'matter': [1],\n",
       " 'trumps': [1],\n",
       " 'job': [1],\n",
       " 'growing': [1],\n",
       " 'fifteen': [1],\n",
       " 'nationals': [1],\n",
       " 'arrived': [1],\n",
       " 'teams': [1],\n",
       " 'separate': [1],\n",
       " 'flights': [1],\n",
       " 'hours': [1],\n",
       " 'leading': [1],\n",
       " 'travelled': [1],\n",
       " 'belgrad': [1],\n",
       " 'forest': [1],\n",
       " 'searched': [1],\n",
       " 'week': [1],\n",
       " 'police': [1],\n",
       " 'team': [1],\n",
       " 'hard': [1],\n",
       " 'drives': [1],\n",
       " 'consulates': [1],\n",
       " 'surveillance': [1],\n",
       " 'camera': [1],\n",
       " 'system': [1],\n",
       " 'prior': [1],\n",
       " 'arrival': [1],\n",
       " 'visiting': [1],\n",
       " 'obtain': [1],\n",
       " 'documents': [1],\n",
       " 'forthcoming': [1],\n",
       " 'marriage': [1],\n",
       " 'looked': [1],\n",
       " 'wearing': [1],\n",
       " 'outfit': [1],\n",
       " 'glasses': [1],\n",
       " 'fake': [1],\n",
       " 'beard': [1],\n",
       " 'added': [1],\n",
       " 'monday': [1],\n",
       " 'cnn': [1],\n",
       " 'broadcast': [1],\n",
       " 'images': [1],\n",
       " 'appearing': [1],\n",
       " 'operative': [1],\n",
       " 'leaving': [1],\n",
       " 'video': [1],\n",
       " 'rights': [1],\n",
       " 'reasons': [1],\n",
       " 'confirmed': [1],\n",
       " 'people': [1],\n",
       " 'arrested': [1],\n",
       " 'ak': [1],\n",
       " 'adding': [1],\n",
       " 'played': [1],\n",
       " 'role': [1],\n",
       " 'punished': [1],\n",
       " 'independent': [1],\n",
       " 'commission': [1],\n",
       " 'confident': [1],\n",
       " 'salmans': [1],\n",
       " 'cooperation': [1],\n",
       " 'widely': [1],\n",
       " 'powerful': [1],\n",
       " 'figure': [1],\n",
       " 'deny': [1],\n",
       " 'bbc': [1],\n",
       " 'security': [1],\n",
       " 'frank': [1],\n",
       " 'gardner': [1],\n",
       " 'notable': [1],\n",
       " 'muchdiscussed': [1],\n",
       " 'tape': [1],\n",
       " 'reveals': [1],\n",
       " 'gruesome': [1],\n",
       " 'details': [1],\n",
       " 'trailed': [1],\n",
       " 'expose': [1],\n",
       " 'naked': [1],\n",
       " 'truth': [1],\n",
       " 'fell': [1],\n",
       " 'peoples': [1],\n",
       " 'expectations': [1],\n",
       " 'stand': [1],\n",
       " 'chaired': [1],\n",
       " 'cabinet': [1],\n",
       " 'statement': [1],\n",
       " 'hold': [1],\n",
       " 'account': [1],\n",
       " 'responsible': [1],\n",
       " 'epa': [1],\n",
       " '2r': [1],\n",
       " 'meet': [1],\n",
       " 'held': [1],\n",
       " 'including': [1],\n",
       " 'spoke': [1],\n",
       " 'phone': [1],\n",
       " 'offering': [1],\n",
       " 'condolences': [1],\n",
       " 'solve': [1],\n",
       " 'initially': [1],\n",
       " 'fistfight': [1],\n",
       " 'acknowledged': [1],\n",
       " 'murdered': [1],\n",
       " 'aware': [1],\n",
       " 'scope': [1],\n",
       " 'authority': [1],\n",
       " 'adel': [1],\n",
       " 'aljubeir': [1],\n",
       " 'fox': [1],\n",
       " 'tremendous': [1],\n",
       " 'compounded': [1],\n",
       " 'attempt': [1],\n",
       " 'cover': [1],\n",
       " 'unnamed': [1],\n",
       " 'official': [1],\n",
       " 'died': [1],\n",
       " 'chokehold': [1],\n",
       " 'resisting': [1],\n",
       " 'attempts': [1],\n",
       " 'return': [1],\n",
       " 'rolled': [1],\n",
       " 'rug': [1],\n",
       " 'local': [1],\n",
       " 'cooperator': [1],\n",
       " 'dispose': [1],\n",
       " 'critics': [1],\n",
       " 'missing': [1],\n",
       " 'identity': [1],\n",
       " 'revealed': [1],\n",
       " 'addition': [1],\n",
       " 'arrests': [1],\n",
       " 'princes': [1],\n",
       " 'organisation': [1],\n",
       " 'reform': [1],\n",
       " 'quoting': [1],\n",
       " 'arabic': [1],\n",
       " 'questioning': [1],\n",
       " 'saud': [1],\n",
       " 'alqahtani': [1],\n",
       " 'quoted': [1],\n",
       " 'giving': [1],\n",
       " 'instructions': [1],\n",
       " 'bring': [1],\n",
       " 'head': [1],\n",
       " 'dog': [1],\n",
       " 'traded': [1],\n",
       " 'insults': [1],\n",
       " 'copy': [1],\n",
       " 'refusing': [1],\n",
       " 'hand': [1],\n",
       " 'bbcs': [1],\n",
       " 'scrum': [1],\n",
       " 'arrives': [1],\n",
       " 'odd': [1],\n",
       " 'mixture': [1],\n",
       " 'unreality': [1],\n",
       " 'hardfaced': [1],\n",
       " 'pragmatism': [1],\n",
       " 'attendees': [1],\n",
       " 'theyre': [1],\n",
       " 'stay': [1],\n",
       " 'opportunities': [1],\n",
       " 'haul': [1],\n",
       " 'pressure': [1],\n",
       " 'term': [1],\n",
       " 'means': [1],\n",
       " 'urgency': [1],\n",
       " 'outrage': [1],\n",
       " 'fuelling': [1],\n",
       " 'absent': [1],\n",
       " 'delivering': [1],\n",
       " 'explosive': [1],\n",
       " 'announced': [1],\n",
       " '50bn': [1],\n",
       " '£385bn': [1],\n",
       " '12': [1],\n",
       " 'megadeals': [1],\n",
       " 'contracts': [1],\n",
       " 'signed': [1],\n",
       " 'flourish': [1],\n",
       " 'host': [1],\n",
       " 'ceos': [1],\n",
       " 'partners': [1],\n",
       " 'applause': [1],\n",
       " 'audience': [1],\n",
       " 'doubt': [1],\n",
       " 'intended': [1],\n",
       " 'resounding': [1],\n",
       " 'vote': [1],\n",
       " 'confidence': [1],\n",
       " 'vision': [1],\n",
       " 'arabias': [1],\n",
       " 'laid': [1],\n",
       " 'investments': [1],\n",
       " 'sour': [1],\n",
       " 'mood': [1],\n",
       " 'optimism': [1],\n",
       " 'selfapprobation': [1],\n",
       " 'exhibited': [1]}"
      ]
     },
     "execution_count": 59,
     "metadata": {},
     "output_type": "execute_result"
    }
   ],
   "source": [
    "##re-arrange dictionary in descending order\n",
    "bbc2=dict(sorted(bbc2.items(), key=lambda item: item[1],reverse=True))\n",
    "bbc2"
   ]
  },
  {
   "cell_type": "markdown",
   "metadata": {},
   "source": [
    "The word 'saudi' appears the most times in both the aljazeera news story (14times) and the bbc news story (22times). Below is the cosine of the angle between these two vectors after removing the word 'saudi' from both dictionaries."
   ]
  },
  {
   "cell_type": "code",
   "execution_count": 60,
   "metadata": {},
   "outputs": [
    {
     "data": {
      "text/plain": [
       "[22]"
      ]
     },
     "execution_count": 60,
     "metadata": {},
     "output_type": "execute_result"
    }
   ],
   "source": [
    "## remove key 'saudi' from both dictionaries\n",
    "aljazeera2.pop(\"saudi\")\n",
    "bbc2.pop(\"saudi\")"
   ]
  },
  {
   "cell_type": "code",
   "execution_count": 61,
   "metadata": {},
   "outputs": [],
   "source": [
    "## build a function to create a document term matrix for each news dictionary created above; combine all into one DataFrame\n",
    "def gen_DTM(texts=None):\n",
    "    '''\n",
    "    This function generates a document term matrix by taking in a series of dictionary objects as an input\n",
    "    and outputting a pandas DataFrame,where the column headers represent the keys; the cells\n",
    "    represent the corresponding dictionary value (i.e, how many times the word/key appears); and the index \n",
    "    represent which dictionary the words came from. The resulting DataFrame includes the document term matrix\n",
    "    for each dictionary object inputted in the function.Note that the resulting DataFrame will have all instances\n",
    "    where a word is in one text but not another replaced with a 0.\n",
    "    '''\n",
    "    DTM = pd.DataFrame()\n",
    "    for text in texts:\n",
    "        entry = text\n",
    "        DTM = DTM.append(pd.DataFrame(entry),ignore_index=True,sort=True) # Row bind\n",
    "    \n",
    "    DTM.fillna(0, inplace=True) \n",
    "    return DTM"
   ]
  },
  {
   "cell_type": "code",
   "execution_count": 62,
   "metadata": {},
   "outputs": [],
   "source": [
    "##run function above; generate document term matrix\n",
    "DTM3 = gen_DTM([aljazeera2,bbc2]) "
   ]
  },
  {
   "cell_type": "code",
   "execution_count": 63,
   "metadata": {},
   "outputs": [],
   "source": [
    "#index the pandas dataframe to draw out a numpy array ; i.e,, convert into vectors\n",
    "a = DTM3.iloc[0].values ##aljazeera\n",
    "b = DTM3.iloc[1].values ##bbc"
   ]
  },
  {
   "cell_type": "code",
   "execution_count": 64,
   "metadata": {},
   "outputs": [],
   "source": [
    "##determine dot product of vector a and b\n",
    "numerator=np.dot(a,b) \n",
    "##determine magnitude of vector a and b and multiply them with one another\n",
    "denominator=np.sqrt(np.dot(a,a)) * np.sqrt(np.dot(b,b)) "
   ]
  },
  {
   "cell_type": "code",
   "execution_count": 65,
   "metadata": {
    "scrolled": true
   },
   "outputs": [
    {
     "name": "stdout",
     "output_type": "stream",
     "text": [
      "{'Aljazeera vs. BBC': 0.585514809687971}\n"
     ]
    }
   ],
   "source": [
    "##derive the cosine of the angle between vector a and b; i.e.,similarity between aljazeera and bbc\n",
    "cos_ab=numerator/denominator\n",
    "print({'Aljazeera vs. BBC': cos_ab})"
   ]
  },
  {
   "cell_type": "markdown",
   "metadata": {},
   "source": [
    "Based on the analysis above, after removing the word 'saudi' from both the aljazeera and bbc dictionaries, the similarity between aljazeera and bbc is now 0.585514809687971 as opposed to  0.6756884307843023 in the previous analysis. The picture of similiarity changed substantially between aljazeera and bbc after removing the word 'saudi', which was the most frequently appearing word in both accounts of Turkish President Erdogan's remarks about the murder of journalist Jamal Khashoggi. They are now less similar than they were before."
   ]
  }
 ],
 "metadata": {
  "kernelspec": {
   "display_name": "Python 3",
   "language": "python",
   "name": "python3"
  },
  "language_info": {
   "codemirror_mode": {
    "name": "ipython",
    "version": 3
   },
   "file_extension": ".py",
   "mimetype": "text/x-python",
   "name": "python",
   "nbconvert_exporter": "python",
   "pygments_lexer": "ipython3",
   "version": "3.8.3"
  }
 },
 "nbformat": 4,
 "nbformat_minor": 4
}
